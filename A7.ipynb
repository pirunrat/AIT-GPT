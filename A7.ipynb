{
 "cells": [
  {
   "cell_type": "code",
   "execution_count": 7,
   "metadata": {
    "colab": {
     "base_uri": "https://localhost:8080/"
    },
    "executionInfo": {
     "elapsed": 56183,
     "status": "ok",
     "timestamp": 1710648041734,
     "user": {
      "displayName": "Pirunrat Kaewphanoaw",
      "userId": "16190790272292098917"
     },
     "user_tz": -420
    },
    "id": "cAHmamt8Cwdr",
    "outputId": "0bb5f8be-b7f1-4192-83da-75819a67e523"
   },
   "outputs": [],
   "source": [
    "# import os\n",
    "\n",
    "# # Define the cache directory\n",
    "# cache_dir = './.pip_cache'\n",
    "\n",
    "# # Check if the cache directory exists, if not, create it\n",
    "# if not os.path.exists(cache_dir):\n",
    "#     os.makedirs(cache_dir)\n",
    "\n",
    "# def install_package(package_name):\n",
    "#     # Check if the package is already installed\n",
    "#     try:\n",
    "#         __import__(package_name)\n",
    "#         print(f\"{package_name} is already installed\")\n",
    "#     except ImportError:\n",
    "#         # Install the package\n",
    "#         !pip install --no-cache-dir {package_name}\n",
    "#         print(f\"{package_name} has been installed\")\n",
    "\n",
    "# # List of packages to install\n",
    "# packages = [\n",
    "#     'langchain==0.0.350',\n",
    "#     'accelerate==0.25.0',\n",
    "#     'transformers==4.36.2',\n",
    "#     'bitsandbytes==0.41.2',\n",
    "#     'sentence-transformers==2.2.2',\n",
    "#     'InstructorEmbedding==1.0.1',\n",
    "#     'pymupdf==1.23.8',\n",
    "#     'faiss-gpu==1.7.2',\n",
    "#     'faiss-cpu==1.7.4'\n",
    "# ]\n",
    "\n",
    "# # Install each package\n",
    "# for package in packages:\n",
    "#     install_package(package)"
   ]
  },
  {
   "cell_type": "code",
   "execution_count": 1,
   "metadata": {
    "colab": {
     "base_uri": "https://localhost:8080/"
    },
    "executionInfo": {
     "elapsed": 306,
     "status": "ok",
     "timestamp": 1710648624785,
     "user": {
      "displayName": "Pirunrat Kaewphanoaw",
      "userId": "16190790272292098917"
     },
     "user_tz": -420
    },
    "id": "UHBVAJ3mC9F0",
    "outputId": "3411565b-ab09-445d-94c9-c5fc93e1e015"
   },
   "outputs": [
    {
     "data": {
      "text/plain": [
       "device(type='cpu')"
      ]
     },
     "execution_count": 1,
     "metadata": {},
     "output_type": "execute_result"
    }
   ],
   "source": [
    "import os\n",
    "import torch\n",
    "\n",
    "device = torch.device('cuda'if torch.cuda.is_available() else 'cpu')\n",
    "device"
   ]
  },
  {
   "cell_type": "markdown",
   "metadata": {
    "id": "eP2CALegEXd0"
   },
   "source": [
    "**Prompt**"
   ]
  },
  {
   "cell_type": "code",
   "execution_count": 2,
   "metadata": {
    "colab": {
     "base_uri": "https://localhost:8080/"
    },
    "executionInfo": {
     "elapsed": 2,
     "status": "ok",
     "timestamp": 1710648625924,
     "user": {
      "displayName": "Pirunrat Kaewphanoaw",
      "userId": "16190790272292098917"
     },
     "user_tz": -420
    },
    "id": "cZPf3RJTEGi6",
    "outputId": "483e4ba4-b139-4608-f9e5-1356cb6ab67c"
   },
   "outputs": [
    {
     "data": {
      "text/plain": [
       "PromptTemplate(input_variables=['context', 'question'], template='Founded in 1959 as SEATO Graduate School of Engineering, it receives funding from organizations and governments around the world.\\n    In 1967, The Constituent Assembly of Thailand approved legislation for the Charter of the newly named Asian Institute of Technology in October.\\n    The Asian Institute of Technology Enabling Act was published in the Royal Thai Government Gazette in November the same year.\\n    AIT became independent of SEATO as an institution of higher learning empowered to grant degrees.\\n    {context}\\n    Question: {question}\\n    Answer:')"
      ]
     },
     "execution_count": 2,
     "metadata": {},
     "output_type": "execute_result"
    }
   ],
   "source": [
    "from langchain import PromptTemplate\n",
    "\n",
    "prompt_template = \"\"\"\n",
    "    Founded in 1959 as SEATO Graduate School of Engineering, it receives funding from organizations and governments around the world.\n",
    "    In 1967, The Constituent Assembly of Thailand approved legislation for the Charter of the newly named Asian Institute of Technology in October.\n",
    "    The Asian Institute of Technology Enabling Act was published in the Royal Thai Government Gazette in November the same year.\n",
    "    AIT became independent of SEATO as an institution of higher learning empowered to grant degrees.\n",
    "    {context}\n",
    "    Question: {question}\n",
    "    Answer:\n",
    "    \"\"\".strip()\n",
    "\n",
    "PROMPT = PromptTemplate.from_template(\n",
    "    template = prompt_template\n",
    ")\n",
    "\n",
    "PROMPT\n",
    "#using str.format\n",
    "#The placeholder is defined using curly brackets: {} {}"
   ]
  },
  {
   "cell_type": "code",
   "execution_count": 3,
   "metadata": {
    "colab": {
     "base_uri": "https://localhost:8080/",
     "height": 105
    },
    "executionInfo": {
     "elapsed": 3,
     "status": "ok",
     "timestamp": 1710648626425,
     "user": {
      "displayName": "Pirunrat Kaewphanoaw",
      "userId": "16190790272292098917"
     },
     "user_tz": -420
    },
    "id": "xrhfu0IXInVB",
    "outputId": "b21998ee-2b40-498d-8d32-be9b4066e1db"
   },
   "outputs": [
    {
     "data": {
      "text/plain": [
       "'Founded in 1959 as SEATO Graduate School of Engineering, it receives funding from organizations and governments around the world.\\n    In 1967, The Constituent Assembly of Thailand approved legislation for the Charter of the newly named Asian Institute of Technology in October.\\n    The Asian Institute of Technology Enabling Act was published in the Royal Thai Government Gazette in November the same year.\\n    AIT became independent of SEATO as an institution of higher learning empowered to grant degrees.\\n    The Asian Institute of Technology (AIT), founded in 1959, is an international organization for higher education situated 40km north of Bangkok, Thailand.\\n    It specializes in engineering, advanced technologies, sustainable development, and management and planning.\\n    Question: What is AIT\\n    Answer:'"
      ]
     },
     "execution_count": 3,
     "metadata": {},
     "output_type": "execute_result"
    }
   ],
   "source": [
    "PROMPT.format(\n",
    "    context = \"\"\"The Asian Institute of Technology (AIT), founded in 1959, is an international organization for higher education situated 40km north of Bangkok, Thailand.\n",
    "    It specializes in engineering, advanced technologies, sustainable development, and management and planning.\"\"\",\n",
    "    question = \"What is AIT\"\n",
    ")"
   ]
  },
  {
   "cell_type": "code",
   "execution_count": 4,
   "metadata": {},
   "outputs": [],
   "source": [
    "# !pip install langchain==0.1.6\n",
    "# !pip install langchain-community==0.0.19"
   ]
  },
  {
   "cell_type": "markdown",
   "metadata": {
    "id": "lqRdSqE0MG-n"
   },
   "source": [
    "**Retrieval**"
   ]
  },
  {
   "cell_type": "markdown",
   "metadata": {
    "id": "-hhZg6Z2Ok6n"
   },
   "source": [
    "2.1 Document Loader"
   ]
  },
  {
   "cell_type": "code",
   "execution_count": 5,
   "metadata": {},
   "outputs": [],
   "source": [
    "from langchain_community.document_loaders import PyMuPDFLoader"
   ]
  },
  {
   "cell_type": "code",
   "execution_count": 6,
   "metadata": {
    "executionInfo": {
     "elapsed": 2,
     "status": "ok",
     "timestamp": 1710648627639,
     "user": {
      "displayName": "Pirunrat Kaewphanoaw",
      "userId": "16190790272292098917"
     },
     "user_tz": -420
    },
    "id": "jDKCTqJLMBnp"
   },
   "outputs": [],
   "source": [
    "nlp_docs = './SET-ICT-DSAI.pdf'\n",
    "\n",
    "loader = PyMuPDFLoader(nlp_docs)\n",
    "documents = loader.load()"
   ]
  },
  {
   "cell_type": "code",
   "execution_count": 7,
   "metadata": {
    "colab": {
     "base_uri": "https://localhost:8080/"
    },
    "executionInfo": {
     "elapsed": 484,
     "status": "ok",
     "timestamp": 1710648629647,
     "user": {
      "displayName": "Pirunrat Kaewphanoaw",
      "userId": "16190790272292098917"
     },
     "user_tz": -420
    },
    "id": "Yr15kpftPjvN",
    "outputId": "d593d1d0-d559-4b58-91a4-a742fdc59426"
   },
   "outputs": [
    {
     "data": {
      "text/plain": [
       "2"
      ]
     },
     "execution_count": 7,
     "metadata": {},
     "output_type": "execute_result"
    }
   ],
   "source": [
    "len(documents)"
   ]
  },
  {
   "cell_type": "markdown",
   "metadata": {
    "id": "5XYXR3t0Uwqi"
   },
   "source": [
    "2.2 Docment Transformer"
   ]
  },
  {
   "cell_type": "code",
   "execution_count": 8,
   "metadata": {
    "executionInfo": {
     "elapsed": 474,
     "status": "ok",
     "timestamp": 1710648631538,
     "user": {
      "displayName": "Pirunrat Kaewphanoaw",
      "userId": "16190790272292098917"
     },
     "user_tz": -420
    },
    "id": "LzDlqE7qUzoY"
   },
   "outputs": [],
   "source": [
    "from langchain.text_splitter import RecursiveCharacterTextSplitter\n",
    "\n",
    "text_splitter = RecursiveCharacterTextSplitter(\n",
    "    chunk_size = 70,\n",
    "    chunk_overlap = 10\n",
    ")\n",
    "\n",
    "doc = text_splitter.split_documents(documents)"
   ]
  },
  {
   "cell_type": "code",
   "execution_count": 9,
   "metadata": {
    "colab": {
     "base_uri": "https://localhost:8080/"
    },
    "executionInfo": {
     "elapsed": 2,
     "status": "ok",
     "timestamp": 1710648633335,
     "user": {
      "displayName": "Pirunrat Kaewphanoaw",
      "userId": "16190790272292098917"
     },
     "user_tz": -420
    },
    "id": "19Ey2i0NU8GB",
    "outputId": "65696294-f03c-4f3d-828b-26fed4363f7f"
   },
   "outputs": [
    {
     "data": {
      "text/plain": [
       "Document(page_content='Data Science (DS) is concerned with extraction', metadata={'source': './SET-ICT-DSAI.pdf', 'file_path': './SET-ICT-DSAI.pdf', 'page': 0, 'total_pages': 2, 'format': 'PDF 1.5', 'title': '', 'author': '', 'subject': '', 'keywords': '', 'creator': 'PDFsam Basic v4.1.1', 'producer': 'www.ilovepdf.com', 'creationDate': '', 'modDate': 'D:20200309103917Z', 'trapped': ''})"
      ]
     },
     "execution_count": 9,
     "metadata": {},
     "output_type": "execute_result"
    }
   ],
   "source": [
    "doc[0]"
   ]
  },
  {
   "cell_type": "markdown",
   "metadata": {
    "id": "Egts1yjTVAR5"
   },
   "source": [
    "2.3 Text Embedding Models"
   ]
  },
  {
   "cell_type": "code",
   "execution_count": 10,
   "metadata": {
    "colab": {
     "base_uri": "https://localhost:8080/"
    },
    "executionInfo": {
     "elapsed": 1417,
     "status": "ok",
     "timestamp": 1710648645532,
     "user": {
      "displayName": "Pirunrat Kaewphanoaw",
      "userId": "16190790272292098917"
     },
     "user_tz": -420
    },
    "id": "rFRxR7dVVDUq",
    "outputId": "f0705712-419f-4604-f86e-242ed535f763"
   },
   "outputs": [
    {
     "name": "stderr",
     "output_type": "stream",
     "text": [
      "C:\\Users\\user\\anaconda3\\envs\\A7\\lib\\site-packages\\InstructorEmbedding\\instructor.py:7: TqdmExperimentalWarning: Using `tqdm.autonotebook.tqdm` in notebook mode. Use `tqdm.tqdm` instead to force console mode (e.g. in jupyter console)\n",
      "  from tqdm.autonotebook import trange\n",
      "C:\\Users\\user\\anaconda3\\envs\\A7\\lib\\site-packages\\transformers\\utils\\generic.py:441: UserWarning: torch.utils._pytree._register_pytree_node is deprecated. Please use torch.utils._pytree.register_pytree_node instead.\n",
      "  _torch_pytree._register_pytree_node(\n"
     ]
    },
    {
     "name": "stdout",
     "output_type": "stream",
     "text": [
      "load INSTRUCTOR_Transformer\n"
     ]
    },
    {
     "name": "stderr",
     "output_type": "stream",
     "text": [
      "C:\\Users\\user\\anaconda3\\envs\\A7\\lib\\site-packages\\transformers\\utils\\generic.py:309: UserWarning: torch.utils._pytree._register_pytree_node is deprecated. Please use torch.utils._pytree.register_pytree_node instead.\n",
      "  _torch_pytree._register_pytree_node(\n",
      "C:\\Users\\user\\anaconda3\\envs\\A7\\lib\\site-packages\\transformers\\utils\\generic.py:309: UserWarning: torch.utils._pytree._register_pytree_node is deprecated. Please use torch.utils._pytree.register_pytree_node instead.\n",
      "  _torch_pytree._register_pytree_node(\n"
     ]
    },
    {
     "name": "stdout",
     "output_type": "stream",
     "text": [
      "max_seq_length  512\n"
     ]
    }
   ],
   "source": [
    "import torch\n",
    "from langchain.embeddings import HuggingFaceInstructEmbeddings\n",
    "\n",
    "model_name = 'hkunlp/instructor-base'\n",
    "\n",
    "embedding_model = HuggingFaceInstructEmbeddings(\n",
    "    model_name = model_name,\n",
    "    model_kwargs = {\"device\" : device}\n",
    ")"
   ]
  },
  {
   "cell_type": "markdown",
   "metadata": {
    "id": "vf9ifWCQV527"
   },
   "source": [
    "2.4 Vector Stores"
   ]
  },
  {
   "cell_type": "code",
   "execution_count": 11,
   "metadata": {
    "executionInfo": {
     "elapsed": 499,
     "status": "ok",
     "timestamp": 1710648650980,
     "user": {
      "displayName": "Pirunrat Kaewphanoaw",
      "userId": "16190790272292098917"
     },
     "user_tz": -420
    },
    "id": "HpzRT1R6VIJn"
   },
   "outputs": [],
   "source": [
    "#locate vectorstore\n",
    "vector_path = './vector-store'\n",
    "if not os.path.exists(vector_path):\n",
    "    os.makedirs(vector_path)\n",
    "    print('create path done')"
   ]
  },
  {
   "cell_type": "code",
   "execution_count": 12,
   "metadata": {
    "executionInfo": {
     "elapsed": 506,
     "status": "ok",
     "timestamp": 1710648651485,
     "user": {
      "displayName": "Pirunrat Kaewphanoaw",
      "userId": "16190790272292098917"
     },
     "user_tz": -420
    },
    "id": "dxshDq09WTj9"
   },
   "outputs": [],
   "source": [
    "#save vector locally\n",
    "from langchain.vectorstores import FAISS\n",
    "\n",
    "vectordb = FAISS.from_documents(\n",
    "    documents = doc,\n",
    "    embedding = embedding_model\n",
    ")\n",
    "\n",
    "db_file_name = 'nlp_stanford'\n",
    "\n",
    "vectordb.save_local(\n",
    "    folder_path = os.path.join(vector_path, db_file_name),\n",
    "    index_name = 'nlp' #default index\n",
    ")"
   ]
  },
  {
   "cell_type": "markdown",
   "metadata": {
    "id": "vBO03vhLWcyy"
   },
   "source": [
    "2.5 Retrievers"
   ]
  },
  {
   "cell_type": "code",
   "execution_count": 13,
   "metadata": {
    "executionInfo": {
     "elapsed": 385,
     "status": "ok",
     "timestamp": 1710648654530,
     "user": {
      "displayName": "Pirunrat Kaewphanoaw",
      "userId": "16190790272292098917"
     },
     "user_tz": -420
    },
    "id": "7CSPqDnzWa9v"
   },
   "outputs": [],
   "source": [
    "from langchain.vectorstores import FAISS\n",
    "\n",
    "vectordb = FAISS.load_local(\n",
    "    folder_path = os.path.join(vector_path, db_file_name),\n",
    "    embeddings = embedding_model,\n",
    "    index_name = 'nlp' #default index\n",
    ")"
   ]
  },
  {
   "cell_type": "code",
   "execution_count": 14,
   "metadata": {
    "executionInfo": {
     "elapsed": 2,
     "status": "ok",
     "timestamp": 1710648655046,
     "user": {
      "displayName": "Pirunrat Kaewphanoaw",
      "userId": "16190790272292098917"
     },
     "user_tz": -420
    },
    "id": "a_HK4E2OY4yv"
   },
   "outputs": [],
   "source": [
    "#ready to use\n",
    "retriever = vectordb.as_retriever()"
   ]
  },
  {
   "cell_type": "code",
   "execution_count": 15,
   "metadata": {
    "colab": {
     "base_uri": "https://localhost:8080/"
    },
    "executionInfo": {
     "elapsed": 3,
     "status": "ok",
     "timestamp": 1710648655047,
     "user": {
      "displayName": "Pirunrat Kaewphanoaw",
      "userId": "16190790272292098917"
     },
     "user_tz": -420
    },
    "id": "BTUPIJ9MZGHa",
    "outputId": "42044caf-3fe7-474f-d267-b7e7d66691a7"
   },
   "outputs": [
    {
     "data": {
      "text/plain": [
       "[Document(page_content='•\\n•\\n•\\nhttps://www.dsai-project.eu/', metadata={'source': './SET-ICT-DSAI.pdf', 'file_path': './SET-ICT-DSAI.pdf', 'page': 1, 'total_pages': 2, 'format': 'PDF 1.5', 'title': '', 'author': '', 'subject': '', 'keywords': '', 'creator': 'PDFsam Basic v4.1.1', 'producer': 'www.ilovepdf.com', 'creationDate': '', 'modDate': 'D:20200309103917Z', 'trapped': ''}),\n",
       " Document(page_content='To study DS&AI, students should come from one of the following', metadata={'source': './SET-ICT-DSAI.pdf', 'file_path': './SET-ICT-DSAI.pdf', 'page': 1, 'total_pages': 2, 'format': 'PDF 1.5', 'title': '', 'author': '', 'subject': '', 'keywords': '', 'creator': 'PDFsam Basic v4.1.1', 'producer': 'www.ilovepdf.com', 'creationDate': '', 'modDate': 'D:20200309103917Z', 'trapped': ''}),\n",
       " Document(page_content='SCHOOL OF ENGINEERING AND TECHNOLOGY\\nDSAI Webpage\\nSET Webpage', metadata={'source': './SET-ICT-DSAI.pdf', 'file_path': './SET-ICT-DSAI.pdf', 'page': 0, 'total_pages': 2, 'format': 'PDF 1.5', 'title': '', 'author': '', 'subject': '', 'keywords': '', 'creator': 'PDFsam Basic v4.1.1', 'producer': 'www.ilovepdf.com', 'creationDate': '', 'modDate': 'D:20200309103917Z', 'trapped': ''}),\n",
       " Document(page_content='Data Science (DS) is concerned with extraction', metadata={'source': './SET-ICT-DSAI.pdf', 'file_path': './SET-ICT-DSAI.pdf', 'page': 0, 'total_pages': 2, 'format': 'PDF 1.5', 'title': '', 'author': '', 'subject': '', 'keywords': '', 'creator': 'PDFsam Basic v4.1.1', 'producer': 'www.ilovepdf.com', 'creationDate': '', 'modDate': 'D:20200309103917Z', 'trapped': ''})]"
      ]
     },
     "execution_count": 15,
     "metadata": {},
     "output_type": "execute_result"
    }
   ],
   "source": [
    "retriever.get_relevant_documents(\"What is DSAI\")"
   ]
  },
  {
   "cell_type": "code",
   "execution_count": 16,
   "metadata": {
    "colab": {
     "base_uri": "https://localhost:8080/"
    },
    "executionInfo": {
     "elapsed": 2,
     "status": "ok",
     "timestamp": 1710648655556,
     "user": {
      "displayName": "Pirunrat Kaewphanoaw",
      "userId": "16190790272292098917"
     },
     "user_tz": -420
    },
    "id": "Ck2WI5ffZNmM",
    "outputId": "c7b0a0f0-56bf-464d-c44d-ed32911bf986"
   },
   "outputs": [
    {
     "data": {
      "text/plain": [
       "[Document(page_content='at both l\\nat both levels.\\nABOUT THE PROGRAM\\nPROGRAM STRUCTURE', metadata={'source': './SET-ICT-DSAI.pdf', 'file_path': './SET-ICT-DSAI.pdf', 'page': 0, 'total_pages': 2, 'format': 'PDF 1.5', 'title': '', 'author': '', 'subject': '', 'keywords': '', 'creator': 'PDFsam Basic v4.1.1', 'producer': 'www.ilovepdf.com', 'creationDate': '', 'modDate': 'D:20200309103917Z', 'trapped': ''}),\n",
       " Document(page_content='established fields of machine learning, data', metadata={'source': './SET-ICT-DSAI.pdf', 'file_path': './SET-ICT-DSAI.pdf', 'page': 0, 'total_pages': 2, 'format': 'PDF 1.5', 'title': '', 'author': '', 'subject': '', 'keywords': '', 'creator': 'PDFsam Basic v4.1.1', 'producer': 'www.ilovepdf.com', 'creationDate': '', 'modDate': 'D:20200309103917Z', 'trapped': ''}),\n",
       " Document(page_content='of useful knowledge from data sets.  It is closely', metadata={'source': './SET-ICT-DSAI.pdf', 'file_path': './SET-ICT-DSAI.pdf', 'page': 0, 'total_pages': 2, 'format': 'PDF 1.5', 'title': '', 'author': '', 'subject': '', 'keywords': '', 'creator': 'PDFsam Basic v4.1.1', 'producer': 'www.ilovepdf.com', 'creationDate': '', 'modDate': 'D:20200309103917Z', 'trapped': ''}),\n",
       " Document(page_content='universities \\nand \\ncompanies \\nwith \\nthe \\nmission \\nof \\nbringing', metadata={'source': './SET-ICT-DSAI.pdf', 'file_path': './SET-ICT-DSAI.pdf', 'page': 1, 'total_pages': 2, 'format': 'PDF 1.5', 'title': '', 'author': '', 'subject': '', 'keywords': '', 'creator': 'PDFsam Basic v4.1.1', 'producer': 'www.ilovepdf.com', 'creationDate': '', 'modDate': 'D:20200309103917Z', 'trapped': ''})]"
      ]
     },
     "execution_count": 16,
     "metadata": {},
     "output_type": "execute_result"
    }
   ],
   "source": [
    "retriever.get_relevant_documents(\"What is NLU\")"
   ]
  },
  {
   "cell_type": "markdown",
   "metadata": {
    "id": "KphsAS5LZaqq"
   },
   "source": [
    "**Memory**"
   ]
  },
  {
   "cell_type": "code",
   "execution_count": 17,
   "metadata": {},
   "outputs": [],
   "source": [
    "# !pip install langchain langsmith==0.1.2"
   ]
  },
  {
   "cell_type": "code",
   "execution_count": 18,
   "metadata": {},
   "outputs": [],
   "source": [
    "# !pip install --upgrade langchain"
   ]
  },
  {
   "cell_type": "code",
   "execution_count": 19,
   "metadata": {
    "colab": {
     "base_uri": "https://localhost:8080/",
     "height": 876
    },
    "executionInfo": {
     "elapsed": 495,
     "status": "error",
     "timestamp": 1710648659692,
     "user": {
      "displayName": "Pirunrat Kaewphanoaw",
      "userId": "16190790272292098917"
     },
     "user_tz": -420
    },
    "id": "zwrHpbt1ZUUC",
    "outputId": "eb1bc1f6-2527-4484-8526-bf7fbbe91e59"
   },
   "outputs": [
    {
     "data": {
      "text/plain": [
       "ChatMessageHistory(messages=[])"
      ]
     },
     "execution_count": 19,
     "metadata": {},
     "output_type": "execute_result"
    }
   ],
   "source": [
    "from langchain.memory import ChatMessageHistory\n",
    "\n",
    "history = ChatMessageHistory()\n",
    "history"
   ]
  },
  {
   "cell_type": "code",
   "execution_count": 20,
   "metadata": {
    "colab": {
     "base_uri": "https://localhost:8080/",
     "height": 893
    },
    "executionInfo": {
     "elapsed": 302,
     "status": "error",
     "timestamp": 1710645770827,
     "user": {
      "displayName": "Pirunrat Kaewphanoaw",
      "userId": "16190790272292098917"
     },
     "user_tz": -420
    },
    "id": "GHNYPpVZZiJu",
    "outputId": "f4b8ca3d-dc93-4854-b7bf-453f4c465085"
   },
   "outputs": [
    {
     "data": {
      "text/plain": [
       "{'history': \"Human: hi\\nAI: What's up?\\nHuman: How are you?\\nAI: I'm quite good. How about you?\"}"
      ]
     },
     "execution_count": 20,
     "metadata": {},
     "output_type": "execute_result"
    }
   ],
   "source": [
    "from langchain.memory import ConversationBufferMemory\n",
    "\n",
    "memory = ConversationBufferMemory()\n",
    "memory.save_context({'input':'hi'}, {'output':'What\\'s up?'})\n",
    "memory.save_context({\"input\":'How are you?'},{'output': 'I\\'m quite good. How about you?'})\n",
    "memory.load_memory_variables({})"
   ]
  },
  {
   "cell_type": "markdown",
   "metadata": {
    "id": "4GxPHkXrbyME"
   },
   "source": [
    "**Chain**"
   ]
  },
  {
   "cell_type": "code",
   "execution_count": 21,
   "metadata": {
    "colab": {
     "base_uri": "https://localhost:8080/"
    },
    "executionInfo": {
     "elapsed": 326913,
     "status": "ok",
     "timestamp": 1710646932834,
     "user": {
      "displayName": "Pirunrat Kaewphanoaw",
      "userId": "16190790272292098917"
     },
     "user_tz": -420
    },
    "id": "BmtrwmIAcR5k",
    "outputId": "4cdd65dc-977a-4cfe-cbfc-09bf5b4960ea"
   },
   "outputs": [],
   "source": [
    "# import os\n",
    "\n",
    "# # Clone the repository\n",
    "# !git clone https://huggingface.co/lmsys/fastchat-t5-3b-v1.0\n",
    "\n",
    "# # Specify the repository name and directory\n",
    "# repository_name = 'fastchat-t5-3b-v1.0'\n",
    "# repository_path = f'./{repository_name}'\n",
    "\n",
    "# # Move the cloned repository to the desired directory\n",
    "# !mv {repository_name} {repository_path}\n",
    "\n",
    "# # Change the current directory to the repository directory\n",
    "# os.chdir(repository_path)"
   ]
  },
  {
   "cell_type": "code",
   "execution_count": 22,
   "metadata": {},
   "outputs": [],
   "source": [
    "# !pip install protobuf"
   ]
  },
  {
   "cell_type": "code",
   "execution_count": 23,
   "metadata": {
    "colab": {
     "base_uri": "https://localhost:8080/"
    },
    "executionInfo": {
     "elapsed": 69735,
     "status": "ok",
     "timestamp": 1710648741184,
     "user": {
      "displayName": "Pirunrat Kaewphanoaw",
      "userId": "16190790272292098917"
     },
     "user_tz": -420
    },
    "id": "FR7Rj0XVbvcw",
    "outputId": "ae8a901e-18f1-4eef-9a11-7f207e9d1e04"
   },
   "outputs": [
    {
     "name": "stderr",
     "output_type": "stream",
     "text": [
      "You are using the default legacy behaviour of the <class 'transformers.models.t5.tokenization_t5.T5Tokenizer'>. This is expected, and simply means that the `legacy` (previous) behavior will be used so nothing changes for you. If you want to use the new behaviour, set `legacy=False`. This should only be set if you understand what it means, and thouroughly read the reason why this was added as explained in https://github.com/huggingface/transformers/pull/24565\n",
      "Special tokens have been added in the vocabulary, make sure the associated word embeddings are fine-tuned or trained.\n",
      "Special tokens have been added in the vocabulary, make sure the associated word embeddings are fine-tuned or trained.\n"
     ]
    }
   ],
   "source": [
    "from transformers import AutoTokenizer, pipeline, AutoModelForSeq2SeqLM\n",
    "from transformers import BitsAndBytesConfig\n",
    "from langchain import HuggingFacePipeline\n",
    "import torch\n",
    "\n",
    "model_id = 'fastchat-t5-3b-v1.0'\n",
    "\n",
    "tokenizer = AutoTokenizer.from_pretrained(\n",
    "    model_id)\n",
    "\n",
    "tokenizer.pad_token_id = tokenizer.eos_token_id\n",
    "\n",
    "# bitsandbyte_config = BitsAndBytesConfig(\n",
    "#     load_in_4bit = False,\n",
    "#     bnb_4bit_quant_type = \"nf4\",\n",
    "#     bnb_4bit_compute_dtype = torch.float16,\n",
    "#     bnb_4bit_use_double_quant = False\n",
    "# )\n",
    "\n",
    "model = AutoModelForSeq2SeqLM.from_pretrained(\n",
    "    model_id\n",
    "    # quantization_config = bitsandbyte_config, #caution Nvidia\n",
    "    # device_map = 'cpu',\n",
    "    # load_in_8bit = False\n",
    ")\n",
    "\n",
    "pipe = pipeline(\n",
    "    task=\"text2text-generation\",\n",
    "    model=model,\n",
    "    tokenizer=tokenizer,\n",
    "    max_new_tokens = 256,\n",
    "    model_kwargs = {\n",
    "        \"temperature\" : 0,\n",
    "        \"repetition_penalty\": 1.5\n",
    "    }\n",
    ")\n",
    "\n",
    "llm = HuggingFacePipeline(pipeline = pipe)"
   ]
  },
  {
   "cell_type": "code",
   "execution_count": 24,
   "metadata": {
    "colab": {
     "base_uri": "https://localhost:8080/",
     "height": 529
    },
    "executionInfo": {
     "elapsed": 305,
     "status": "error",
     "timestamp": 1710648751272,
     "user": {
      "displayName": "Pirunrat Kaewphanoaw",
      "userId": "16190790272292098917"
     },
     "user_tz": -420
    },
    "id": "EY9qembsglAa",
    "outputId": "9d6b83c2-cf2c-4b00-d8f9-de095d101c04"
   },
   "outputs": [],
   "source": [
    "# from langchain_core.runnables.utils import create_model\n",
    "\n",
    "from langchain.chains import LLMChain\n",
    "from langchain.chains.conversational_retrieval.prompts import CONDENSE_QUESTION_PROMPT\n",
    "from langchain.memory import ConversationBufferWindowMemory\n",
    "from langchain.chains.question_answering import load_qa_chain\n",
    "from langchain.chains import ConversationalRetrievalChain"
   ]
  },
  {
   "cell_type": "code",
   "execution_count": 25,
   "metadata": {},
   "outputs": [
    {
     "data": {
      "text/plain": [
       "PromptTemplate(input_variables=['chat_history', 'question'], template='Given the following conversation and a follow up question, rephrase the follow up question to be a standalone question, in its original language.\\n\\nChat History:\\n{chat_history}\\nFollow Up Input: {question}\\nStandalone question:')"
      ]
     },
     "execution_count": 25,
     "metadata": {},
     "output_type": "execute_result"
    }
   ],
   "source": [
    "CONDENSE_QUESTION_PROMPT"
   ]
  },
  {
   "cell_type": "code",
   "execution_count": 26,
   "metadata": {},
   "outputs": [],
   "source": [
    "question_generator = LLMChain(\n",
    "    llm = llm,\n",
    "    prompt = CONDENSE_QUESTION_PROMPT,\n",
    "    verbose = True\n",
    ")"
   ]
  },
  {
   "cell_type": "code",
   "execution_count": 27,
   "metadata": {},
   "outputs": [
    {
     "name": "stderr",
     "output_type": "stream",
     "text": [
      "C:\\Users\\user\\anaconda3\\envs\\A7\\lib\\site-packages\\langchain_core\\_api\\deprecation.py:117: LangChainDeprecationWarning: The function `__call__` was deprecated in LangChain 0.1.0 and will be removed in 0.2.0. Use invoke instead.\n",
      "  warn_deprecated(\n"
     ]
    },
    {
     "name": "stdout",
     "output_type": "stream",
     "text": [
      "\n",
      "\n",
      "\u001b[1m> Entering new LLMChain chain...\u001b[0m\n",
      "Prompt after formatting:\n",
      "\u001b[32;1m\u001b[1;3mGiven the following conversation and a follow up question, rephrase the follow up question to be a standalone question, in its original language.\n",
      "\n",
      "Chat History:\n",
      "Human:What is Machine Learning\n",
      "AI:\n",
      "Human:What is Deep Learning\n",
      "AI:\n",
      "Follow Up Input: Comparing both of them\n",
      "Standalone question:\u001b[0m\n",
      "\n",
      "\u001b[1m> Finished chain.\u001b[0m\n"
     ]
    },
    {
     "data": {
      "text/plain": [
       "{'chat_history': 'Human:What is Machine Learning\\nAI:\\nHuman:What is Deep Learning\\nAI:',\n",
       " 'question': 'Comparing both of them',\n",
       " 'text': '<pad> What  are  the  main  differences  between  Machine  Learning  and  Deep  Learning  AI?\\n'}"
      ]
     },
     "execution_count": 27,
     "metadata": {},
     "output_type": "execute_result"
    }
   ],
   "source": [
    "query = 'Comparing both of them'\n",
    "chat_history = \"Human:What is Machine Learning\\nAI:\\nHuman:What is Deep Learning\\nAI:\"\n",
    "\n",
    "question_generator({'chat_history' : chat_history, \"question\" : query})"
   ]
  },
  {
   "cell_type": "code",
   "execution_count": 28,
   "metadata": {},
   "outputs": [
    {
     "data": {
      "text/plain": [
       "StuffDocumentsChain(verbose=True, llm_chain=LLMChain(verbose=True, prompt=PromptTemplate(input_variables=['context', 'question'], template='Founded in 1959 as SEATO Graduate School of Engineering, it receives funding from organizations and governments around the world.\\n    In 1967, The Constituent Assembly of Thailand approved legislation for the Charter of the newly named Asian Institute of Technology in October.\\n    The Asian Institute of Technology Enabling Act was published in the Royal Thai Government Gazette in November the same year.\\n    AIT became independent of SEATO as an institution of higher learning empowered to grant degrees.\\n    {context}\\n    Question: {question}\\n    Answer:'), llm=HuggingFacePipeline(pipeline=<transformers.pipelines.text2text_generation.Text2TextGenerationPipeline object at 0x0000019C7BA5D8E0>)), document_variable_name='context')"
      ]
     },
     "execution_count": 28,
     "metadata": {},
     "output_type": "execute_result"
    }
   ],
   "source": [
    "doc_chain = load_qa_chain(\n",
    "    llm = llm,\n",
    "    chain_type = 'stuff',\n",
    "    prompt = PROMPT,\n",
    "    verbose = True\n",
    ")\n",
    "doc_chain"
   ]
  },
  {
   "cell_type": "code",
   "execution_count": 29,
   "metadata": {},
   "outputs": [
    {
     "name": "stdout",
     "output_type": "stream",
     "text": [
      "\n",
      "\n",
      "\u001b[1m> Entering new StuffDocumentsChain chain...\u001b[0m\n",
      "\n",
      "\n",
      "\u001b[1m> Entering new LLMChain chain...\u001b[0m\n",
      "Prompt after formatting:\n",
      "\u001b[32;1m\u001b[1;3mFounded in 1959 as SEATO Graduate School of Engineering, it receives funding from organizations and governments around the world.\n",
      "    In 1967, The Constituent Assembly of Thailand approved legislation for the Charter of the newly named Asian Institute of Technology in October.\n",
      "    The Asian Institute of Technology Enabling Act was published in the Royal Thai Government Gazette in November the same year.\n",
      "    AIT became independent of SEATO as an institution of higher learning empowered to grant degrees.\n",
      "    AIT Website\n",
      "\n",
      "Asian Institute of\n",
      "Asian Institute of Technology (AIT)\n",
      "\n",
      "At AIT, we will prepare you to understand and\n",
      "\n",
      "science and AI? AIT is ready to help\n",
      "    Question: What is AIT\n",
      "    Answer:\u001b[0m\n",
      "\n",
      "\u001b[1m> Finished chain.\u001b[0m\n",
      "\n",
      "\u001b[1m> Finished chain.\u001b[0m\n"
     ]
    },
    {
     "data": {
      "text/plain": [
       "{'input_documents': [Document(page_content='AIT Website', metadata={'source': './SET-ICT-DSAI.pdf', 'file_path': './SET-ICT-DSAI.pdf', 'page': 0, 'total_pages': 2, 'format': 'PDF 1.5', 'title': '', 'author': '', 'subject': '', 'keywords': '', 'creator': 'PDFsam Basic v4.1.1', 'producer': 'www.ilovepdf.com', 'creationDate': '', 'modDate': 'D:20200309103917Z', 'trapped': ''}),\n",
       "  Document(page_content='Asian Institute of\\nAsian Institute of Technology (AIT)', metadata={'source': './SET-ICT-DSAI.pdf', 'file_path': './SET-ICT-DSAI.pdf', 'page': 1, 'total_pages': 2, 'format': 'PDF 1.5', 'title': '', 'author': '', 'subject': '', 'keywords': '', 'creator': 'PDFsam Basic v4.1.1', 'producer': 'www.ilovepdf.com', 'creationDate': '', 'modDate': 'D:20200309103917Z', 'trapped': ''}),\n",
       "  Document(page_content='At AIT, we will prepare you to understand and', metadata={'source': './SET-ICT-DSAI.pdf', 'file_path': './SET-ICT-DSAI.pdf', 'page': 0, 'total_pages': 2, 'format': 'PDF 1.5', 'title': '', 'author': '', 'subject': '', 'keywords': '', 'creator': 'PDFsam Basic v4.1.1', 'producer': 'www.ilovepdf.com', 'creationDate': '', 'modDate': 'D:20200309103917Z', 'trapped': ''}),\n",
       "  Document(page_content='science and AI? AIT is ready to help', metadata={'source': './SET-ICT-DSAI.pdf', 'file_path': './SET-ICT-DSAI.pdf', 'page': 1, 'total_pages': 2, 'format': 'PDF 1.5', 'title': '', 'author': '', 'subject': '', 'keywords': '', 'creator': 'PDFsam Basic v4.1.1', 'producer': 'www.ilovepdf.com', 'creationDate': '', 'modDate': 'D:20200309103917Z', 'trapped': ''})],\n",
       " 'question': 'What is AIT',\n",
       " 'output_text': '<pad> AIT  is  an  institution  of  higher  learning  in  Thailand  that  was  founded  in  1959  as  SEATO  Graduate  School  of  Engineering.  It  was  later  renamed  to  the  Asian  Institute  of  Technology  (AIT)  in  1967  and  became  independent  of  SEATO  as  an  institution  of  higher  learning  empowered  to  grant  degrees.  AIT  offers  undergraduate  and  graduate  programs  in  various  fields  of  technology,  including  engineering,  science,  and  artificial  intelligence.  It  is  a  member  of  the  Association  of  Southeast  Asian  Nations  (ASEAN)  and  is  a  member  of  the  Association  of  Southeast  Asian  Nations  (ASEAN)  Education  and  Research  Organization  (SEAERO).  AIT  is  a  member  of  the  Association  of  Southeast  Asian  Nations  (ASEAN)  Education  and  Research  Organization  ('}"
      ]
     },
     "execution_count": 29,
     "metadata": {},
     "output_type": "execute_result"
    }
   ],
   "source": [
    "query = \"What is AIT\"\n",
    "input_document = retriever.get_relevant_documents(query)\n",
    "\n",
    "doc_chain({'input_documents':input_document, 'question':query})"
   ]
  },
  {
   "cell_type": "code",
   "execution_count": 30,
   "metadata": {},
   "outputs": [
    {
     "data": {
      "text/plain": [
       "ConversationalRetrievalChain(memory=ConversationBufferWindowMemory(output_key='answer', return_messages=True, memory_key='chat_history', k=3), verbose=True, combine_docs_chain=StuffDocumentsChain(verbose=True, llm_chain=LLMChain(verbose=True, prompt=PromptTemplate(input_variables=['context', 'question'], template='Founded in 1959 as SEATO Graduate School of Engineering, it receives funding from organizations and governments around the world.\\n    In 1967, The Constituent Assembly of Thailand approved legislation for the Charter of the newly named Asian Institute of Technology in October.\\n    The Asian Institute of Technology Enabling Act was published in the Royal Thai Government Gazette in November the same year.\\n    AIT became independent of SEATO as an institution of higher learning empowered to grant degrees.\\n    {context}\\n    Question: {question}\\n    Answer:'), llm=HuggingFacePipeline(pipeline=<transformers.pipelines.text2text_generation.Text2TextGenerationPipeline object at 0x0000019C7BA5D8E0>)), document_variable_name='context'), question_generator=LLMChain(verbose=True, prompt=PromptTemplate(input_variables=['chat_history', 'question'], template='Given the following conversation and a follow up question, rephrase the follow up question to be a standalone question, in its original language.\\n\\nChat History:\\n{chat_history}\\nFollow Up Input: {question}\\nStandalone question:'), llm=HuggingFacePipeline(pipeline=<transformers.pipelines.text2text_generation.Text2TextGenerationPipeline object at 0x0000019C7BA5D8E0>)), return_source_documents=True, get_chat_history=<function <lambda> at 0x0000019C3D668B80>, retriever=VectorStoreRetriever(tags=['FAISS', 'HuggingFaceInstructEmbeddings'], vectorstore=<langchain_community.vectorstores.faiss.FAISS object at 0x0000019C3A66AD00>))"
      ]
     },
     "execution_count": 30,
     "metadata": {},
     "output_type": "execute_result"
    }
   ],
   "source": [
    "memory = ConversationBufferWindowMemory(\n",
    "    k=3, \n",
    "    memory_key = \"chat_history\",\n",
    "    return_messages = True,\n",
    "    output_key = 'answer'\n",
    ")\n",
    "\n",
    "chain = ConversationalRetrievalChain(\n",
    "    retriever=retriever,\n",
    "    question_generator=question_generator,\n",
    "    combine_docs_chain=doc_chain,\n",
    "    return_source_documents=True,\n",
    "    memory=memory,\n",
    "    verbose=True,\n",
    "    get_chat_history=lambda h : h\n",
    ")\n",
    "chain"
   ]
  },
  {
   "cell_type": "code",
   "execution_count": 31,
   "metadata": {},
   "outputs": [
    {
     "name": "stdout",
     "output_type": "stream",
     "text": [
      "\n",
      "\n",
      "\u001b[1m> Entering new ConversationalRetrievalChain chain...\u001b[0m\n",
      "\n",
      "\n",
      "\u001b[1m> Entering new StuffDocumentsChain chain...\u001b[0m\n",
      "\n",
      "\n",
      "\u001b[1m> Entering new LLMChain chain...\u001b[0m\n",
      "Prompt after formatting:\n",
      "\u001b[32;1m\u001b[1;3mFounded in 1959 as SEATO Graduate School of Engineering, it receives funding from organizations and governments around the world.\n",
      "    In 1967, The Constituent Assembly of Thailand approved legislation for the Charter of the newly named Asian Institute of Technology in October.\n",
      "    The Asian Institute of Technology Enabling Act was published in the Royal Thai Government Gazette in November the same year.\n",
      "    AIT became independent of SEATO as an institution of higher learning empowered to grant degrees.\n",
      "    Are you ready for the age of data\n",
      "\n",
      "backgrounds.\n",
      "Computer Science / Computer Engineering / ICT.\n",
      "\n",
      "of \n",
      "human \n",
      "endeavor, transforming the way we live\n",
      "\n",
      "and work. In the longer term, Artificial\n",
      "    Question: Who are you by the way?\n",
      "    Answer:\u001b[0m\n",
      "\n",
      "\u001b[1m> Finished chain.\u001b[0m\n",
      "\n",
      "\u001b[1m> Finished chain.\u001b[0m\n",
      "\n",
      "\u001b[1m> Finished chain.\u001b[0m\n"
     ]
    },
    {
     "data": {
      "text/plain": [
       "{'question': 'Who are you by the way?',\n",
       " 'chat_history': [],\n",
       " 'answer': '<pad> Answer:  I  am  a  student  at  AIT.\\n',\n",
       " 'source_documents': [Document(page_content='Are you ready for the age of data', metadata={'source': './SET-ICT-DSAI.pdf', 'file_path': './SET-ICT-DSAI.pdf', 'page': 1, 'total_pages': 2, 'format': 'PDF 1.5', 'title': '', 'author': '', 'subject': '', 'keywords': '', 'creator': 'PDFsam Basic v4.1.1', 'producer': 'www.ilovepdf.com', 'creationDate': '', 'modDate': 'D:20200309103917Z', 'trapped': ''}),\n",
       "  Document(page_content='backgrounds.\\nComputer Science / Computer Engineering / ICT.', metadata={'source': './SET-ICT-DSAI.pdf', 'file_path': './SET-ICT-DSAI.pdf', 'page': 1, 'total_pages': 2, 'format': 'PDF 1.5', 'title': '', 'author': '', 'subject': '', 'keywords': '', 'creator': 'PDFsam Basic v4.1.1', 'producer': 'www.ilovepdf.com', 'creationDate': '', 'modDate': 'D:20200309103917Z', 'trapped': ''}),\n",
       "  Document(page_content='of \\nhuman \\nendeavor, transforming the way we live', metadata={'source': './SET-ICT-DSAI.pdf', 'file_path': './SET-ICT-DSAI.pdf', 'page': 1, 'total_pages': 2, 'format': 'PDF 1.5', 'title': '', 'author': '', 'subject': '', 'keywords': '', 'creator': 'PDFsam Basic v4.1.1', 'producer': 'www.ilovepdf.com', 'creationDate': '', 'modDate': 'D:20200309103917Z', 'trapped': ''}),\n",
       "  Document(page_content='and work. In the longer term, Artificial', metadata={'source': './SET-ICT-DSAI.pdf', 'file_path': './SET-ICT-DSAI.pdf', 'page': 1, 'total_pages': 2, 'format': 'PDF 1.5', 'title': '', 'author': '', 'subject': '', 'keywords': '', 'creator': 'PDFsam Basic v4.1.1', 'producer': 'www.ilovepdf.com', 'creationDate': '', 'modDate': 'D:20200309103917Z', 'trapped': ''})]}"
      ]
     },
     "execution_count": 31,
     "metadata": {},
     "output_type": "execute_result"
    }
   ],
   "source": [
    "prompt_question = \"Who are you by the way?\"\n",
    "answer = chain({\"question\":prompt_question})\n",
    "answer"
   ]
  },
  {
   "cell_type": "code",
   "execution_count": 32,
   "metadata": {},
   "outputs": [
    {
     "data": {
      "text/plain": [
       "'<pad> Answer:  I  am  a  student  at  AIT.\\n'"
      ]
     },
     "execution_count": 32,
     "metadata": {},
     "output_type": "execute_result"
    }
   ],
   "source": [
    "answer['answer']"
   ]
  }
 ],
 "metadata": {
  "accelerator": "GPU",
  "colab": {
   "authorship_tag": "ABX9TyOloYphaOtxgoAoB9xELySa",
   "gpuType": "T4",
   "mount_file_id": "1N4JdQO4j_dgf-Dth-EImohXkIt3x3BnK",
   "provenance": []
  },
  "kernelspec": {
   "display_name": "Python 3 (ipykernel)",
   "language": "python",
   "name": "python3"
  },
  "language_info": {
   "codemirror_mode": {
    "name": "ipython",
    "version": 3
   },
   "file_extension": ".py",
   "mimetype": "text/x-python",
   "name": "python",
   "nbconvert_exporter": "python",
   "pygments_lexer": "ipython3",
   "version": "3.8.18"
  }
 },
 "nbformat": 4,
 "nbformat_minor": 4
}
